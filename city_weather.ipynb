{
 "cells": [
  {
   "cell_type": "markdown",
   "id": "ab1ef9ab",
   "metadata": {},
   "source": [
    "What Is the Weather in my City? "
   ]
  },
  {
   "cell_type": "markdown",
   "id": "46ba140a",
   "metadata": {},
   "source": [
    "This script uses the BeautifulSoup package in order to 'scrape' data from the internet and return it in terminal.\n",
    "The elected city can be adapted and a return of the weather to the nearest hour will be produced"
   ]
  },
  {
   "cell_type": "markdown",
   "id": "8a5d5017",
   "metadata": {},
   "source": [
    "First we import the packages needed "
   ]
  },
  {
   "cell_type": "code",
   "execution_count": 1,
   "id": "90c56185",
   "metadata": {},
   "outputs": [],
   "source": [
    "# Import packages needed to 'scrape' data from the internet\n",
    "from bs4 import BeautifulSoup\n",
    "import requests\n",
    "import time"
   ]
  },
  {
   "cell_type": "markdown",
   "id": "8fffbec0",
   "metadata": {},
   "source": [
    "Setting a header allows you to scrape data from Google without it thinking you are a bot. \n",
    "User agent helps the destination server to identify why brower you are runnning on."
   ]
  },
  {
   "cell_type": "code",
   "execution_count": 2,
   "id": "a1893cb2",
   "metadata": {},
   "outputs": [],
   "source": [
    "# Set header\n",
    "headers = {'User-Agent': 'Mozilla/5.0 (Windows NT 10.0; Win64; x64) AppleWebKit/537.36 (KHTML, like Gecko) Chrome/58.0.3029.110 Safari/537.3'}"
   ]
  },
  {
   "cell_type": "markdown",
   "id": "bf076487",
   "metadata": {},
   "source": [
    "Go to Google and type in any city's weather (i.e. London weather). Take the URL of the results and set it with requests.get. The url will be used to 'scrape' the weather information needed.\n",
    "When the code has run, you should get a <Response [20]> return"
   ]
  },
  {
   "cell_type": "code",
   "execution_count": 4,
   "id": "f8b9fa12",
   "metadata": {},
   "outputs": [
    {
     "name": "stdout",
     "output_type": "stream",
     "text": [
      "<Response [200]>\n"
     ]
    }
   ],
   "source": [
    "# Set requests.get url\n",
    "print(requests.get(\"https://www.google.com/search?q=london-weather&oq=london-weather&aqs=chrome.0.35i39l2j0l4j46j69i60.6128j1j7&sourceid=chrome&ie=UTF-8\"))"
   ]
  },
  {
   "cell_type": "markdown",
   "id": "1b6bc787",
   "metadata": {},
   "source": [
    "Here we create a new function to scrape the weather information. \n",
    "\n",
    "Setting the current location, time, info and weather is done by 'inspecting' the original url Google page used. On the page you can 'inspect' or ctrl+shift+i to find the ids for each element you want to find out. \n",
    "    E.g. For the current time element, the id that stores this is #wob_dts\n",
    "    \n",
    "Finally you set the city you would like to find the weather for. This is fed into the function and substituted into the url.\n",
    "    Try and change the city to anywhere on Earth. \n",
    "\n",
    "When the code is run, a print of the location, date/time to the closest hour, weather and temperature will be returned for the city elected. "
   ]
  },
  {
   "cell_type": "code",
   "execution_count": 6,
   "id": "4e2cee24",
   "metadata": {},
   "outputs": [
    {
     "name": "stdout",
     "output_type": "stream",
     "text": [
      "Leicester, UK\n",
      "Friday 13:00\n",
      "Partly cloudy\n",
      "19 °C\n"
     ]
    }
   ],
   "source": [
    "# Define and run function \n",
    "# city is input by the defition at the end of the function\n",
    "def weather(city):\n",
    "    city = city.replace(\" \",\"+\")\n",
    "    res = requests.get(f'https://www.google.com/search?q={city}&oq={city}&aqs=chrome.0.35i39l2j0l4j46j69i60.6128j1j7&sourceid=chrome&ie=UTF-8',headers=headers)\n",
    "    # define and call soup \n",
    "        # beautiful soup package pulls data from html and xml files & creates a parse tree (tree representing syntax structure of a string of data) from page source code \n",
    "    soup = BeautifulSoup(res.text,'html.parser')  \n",
    "    # set city location\n",
    "    location = soup.select('#wob_loc')[0].getText().strip()  \n",
    "    # define current time\n",
    "    current_time = soup.select('#wob_dts')[0].getText().strip()       \n",
    "    # retrieve information\n",
    "    info = soup.select('#wob_dc')[0].getText().strip() \n",
    "    # retrieve weather \n",
    "    weather = soup.select('#wob_tm')[0].getText().strip()\n",
    "    # f string weather information retrieved and display it\n",
    "    information = f\"{location}\\n{current_time}\\n{info}\\n{weather} °C\"\n",
    "    # the information stated will be scraped from the internet and returned \n",
    "    print (information)\n",
    "    \n",
    "# Set the city of choice \n",
    "city = \"Leicester\"\n",
    "city=city+\" weather \"\n",
    "weather(city)"
   ]
  },
  {
   "cell_type": "code",
   "execution_count": null,
   "id": "45467699",
   "metadata": {},
   "outputs": [],
   "source": []
  }
 ],
 "metadata": {
  "kernelspec": {
   "display_name": "Python 3 (ipykernel)",
   "language": "python",
   "name": "python3"
  },
  "language_info": {
   "codemirror_mode": {
    "name": "ipython",
    "version": 3
   },
   "file_extension": ".py",
   "mimetype": "text/x-python",
   "name": "python",
   "nbconvert_exporter": "python",
   "pygments_lexer": "ipython3",
   "version": "3.9.7"
  }
 },
 "nbformat": 4,
 "nbformat_minor": 5
}
